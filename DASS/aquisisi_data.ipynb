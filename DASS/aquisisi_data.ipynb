{
 "cells": [
  {
   "cell_type": "code",
   "execution_count": 1,
   "metadata": {},
   "outputs": [],
   "source": [
    "import os\n",
    "import pandas as pd"
   ]
  },
  {
   "cell_type": "code",
   "execution_count": 4,
   "metadata": {},
   "outputs": [],
   "source": [
    "path_file = os.listdir('data/04-11-23/')\n",
    "label = [filesname.replace('.csv', '') for filesname in path_file]\n",
    "\n",
    "# label\n",
    "file = {}\n",
    "for no_label in label:\n",
    "    data = pd.read_csv(f'data/04-11-23/{no_label}.csv',skiprows=12,sep=',')\n",
    "    data.to_csv(f'data/04-11-23_edit/{no_label}.csv')\n",
    "    # file[no_label] = data\n",
    "    # globals()[no_label] = data\n"
   ]
  },
  {
   "cell_type": "code",
   "execution_count": 5,
   "metadata": {},
   "outputs": [
    {
     "data": {
      "text/plain": [
       "['aldi_tkr',\n",
       " 'ary_tkr',\n",
       " 'betari_tkr',\n",
       " 'charisma_tkr',\n",
       " 'deva_tkr',\n",
       " 'faiza_tkr',\n",
       " 'novi_tkr']"
      ]
     },
     "execution_count": 5,
     "metadata": {},
     "output_type": "execute_result"
    }
   ],
   "source": [
    "label"
   ]
  },
  {
   "cell_type": "code",
   "execution_count": 39,
   "metadata": {},
   "outputs": [
    {
     "data": {
      "text/plain": [
       "10.0"
      ]
     },
     "execution_count": 39,
     "metadata": {},
     "output_type": "execute_result"
    }
   ],
   "source": [
    "180/18"
   ]
  }
 ],
 "metadata": {
  "kernelspec": {
   "display_name": "Python 3",
   "language": "python",
   "name": "python3"
  },
  "language_info": {
   "codemirror_mode": {
    "name": "ipython",
    "version": 3
   },
   "file_extension": ".py",
   "mimetype": "text/x-python",
   "name": "python",
   "nbconvert_exporter": "python",
   "pygments_lexer": "ipython3",
   "version": "3.9.13"
  }
 },
 "nbformat": 4,
 "nbformat_minor": 2
}
