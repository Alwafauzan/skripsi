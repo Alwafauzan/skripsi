{
 "cells": [
  {
   "cell_type": "code",
   "execution_count": 43,
   "metadata": {},
   "outputs": [],
   "source": [
    "import pandas as pd"
   ]
  },
  {
   "cell_type": "code",
   "execution_count": 44,
   "metadata": {},
   "outputs": [],
   "source": [
    "data = pd.read_excel('excel/DATA_KNN_2000x2000.xlsx',sheet_name='DATA_KNN')\n",
    "# data = pd.read_excel('excel/DATA_KNN_1500x1500.xlsx')\n",
    "# data = pd.read_excel('excel/DATA_KNN_3000x1800.xlsx')\n",
    "x = data[['BPM','HRV','VAR','STD','SISTOL','DIASTOL','DISTANCE']]\n",
    "# x = data[['BPM','HRV']]\n",
    "\n",
    "y = data['KECEMASAN']"
   ]
  },
  {
   "cell_type": "code",
   "execution_count": 45,
   "metadata": {},
   "outputs": [],
   "source": [
    "from sklearn.preprocessing import MinMaxScaler\n",
    "\n",
    "minmax = MinMaxScaler()\n",
    "x_minmax = minmax.fit_transform(x)"
   ]
  },
  {
   "cell_type": "code",
   "execution_count": 46,
   "metadata": {},
   "outputs": [],
   "source": [
    "from sklearn.model_selection import train_test_split\n",
    "x_train, x_test, y_train, y_test = train_test_split(x_minmax, y, test_size= 0.2, random_state= 0)"
   ]
  },
  {
   "cell_type": "code",
   "execution_count": 47,
   "metadata": {},
   "outputs": [
    {
     "name": "stdout",
     "output_type": "stream",
     "text": [
      "Accuracy: 0.7333333333333333\n"
     ]
    }
   ],
   "source": [
    "from sklearn.neighbors import KNeighborsClassifier\n",
    "k = 7\n",
    "model = KNeighborsClassifier(n_neighbors=k)\n",
    "model.fit(x_train,y_train)\n",
    "\n",
    "accuracy = model.score(x_test, y_test)\n",
    "print(\"Accuracy:\", accuracy)"
   ]
  },
  {
   "cell_type": "code",
   "execution_count": 49,
   "metadata": {},
   "outputs": [],
   "source": [
    "y_pred = model.predict(x_test)\n"
   ]
  },
  {
   "cell_type": "code",
   "execution_count": 50,
   "metadata": {},
   "outputs": [],
   "source": [
    "from sklearn.metrics import confusion_matrix, classification_report\n"
   ]
  },
  {
   "cell_type": "code",
   "execution_count": 51,
   "metadata": {},
   "outputs": [
    {
     "name": "stdout",
     "output_type": "stream",
     "text": [
      "              precision    recall  f1-score   support\n",
      "\n",
      "      normal       0.73      0.79      0.76        14\n",
      "       parah       0.60      0.69      0.64        13\n",
      "      ringan       0.73      1.00      0.85        11\n",
      "sangat parah       0.83      1.00      0.91         5\n",
      "      sedang       0.89      0.47      0.62        17\n",
      "\n",
      "    accuracy                           0.73        60\n",
      "   macro avg       0.76      0.79      0.75        60\n",
      "weighted avg       0.76      0.73      0.72        60\n",
      "\n"
     ]
    }
   ],
   "source": [
    "from sklearn.metrics import confusion_matrix\n",
    "cm= confusion_matrix(y_test, y_pred)\n",
    "matrixknn = classification_report(y_test, y_pred)\n",
    "print(matrixknn)"
   ]
  },
  {
   "cell_type": "code",
   "execution_count": 52,
   "metadata": {},
   "outputs": [
    {
     "data": {
      "image/png": "[encoded data removed]",
      "text/plain": [
       "<Figure size 500x500 with 2 Axes>"
      ]
     },
     "metadata": {},
     "output_type": "display_data"
    }
   ],
   "source": [
    "import matplotlib.pyplot as plt\n",
    "import seaborn as sns \n",
    "f, ax =plt.subplots(figsize = (5,5))\n",
    "\n",
    "sns.heatmap(cm,annot = True, linewidths= 0.5, linecolor=\"red\", fmt=\".0f\", ax=ax)\n",
    "plt.xlabel(\"y_pred\")\n",
    "plt.ylabel(\"y_test\")\n",
    "plt.show()\n"
   ]
  },
  {
   "cell_type": "markdown",
   "metadata": {},
   "source": [
    "## BURAM"
   ]
  },
  {
   "cell_type": "code",
   "execution_count": 53,
   "metadata": {},
   "outputs": [],
   "source": [
    "# acc = []\n",
    "# for i in range(1,51):\n",
    "#     k = i\n",
    "#     model = KNeighborsClassifier(n_neighbors=k)\n",
    "#     model.fit(x_train,y_train)\n",
    "\n",
    "#     accuracy = model.score(x_test, y_test)\n",
    "#     # print(\"Accuracy:\", accuracy)\n",
    "#     acc.append(accuracy)\n",
    "\n",
    "# pd.DataFrame(acc).max()"
   ]
  },
  {
   "cell_type": "code",
   "execution_count": 54,
   "metadata": {},
   "outputs": [
    {
     "data": {
      "text/plain": [
       "{'n_neighbors': 1}"
      ]
     },
     "execution_count": 54,
     "metadata": {},
     "output_type": "execute_result"
    }
   ],
   "source": [
    "from sklearn.metrics import r2_score,accuracy_score\n",
    "from sklearn.model_selection import GridSearchCV\n",
    "from sklearn.neighbors import KNeighborsClassifier\n",
    "import numpy as np\n",
    "\n",
    "param_grid = {'n_neighbors' : np.arange(1,51)}\n",
    "grid = GridSearchCV(KNeighborsClassifier(),param_grid,cv = 5,scoring = 'accuracy')\n",
    "grid.fit(x_train,y_train)\n",
    "grid.best_params_"
   ]
  }
 ],
 "metadata": {
  "kernelspec": {
   "display_name": "Python 3",
   "language": "python",
   "name": "python3"
  },
  "language_info": {
   "codemirror_mode": {
    "name": "ipython",
    "version": 3
   },
   "file_extension": ".py",
   "mimetype": "text/x-python",
   "name": "python",
   "nbconvert_exporter": "python",
   "pygments_lexer": "ipython3",
   "version": "3.9.13"
  },
  "orig_nbformat": 4
 },
 "nbformat": 4,
 "nbformat_minor": 2
}
