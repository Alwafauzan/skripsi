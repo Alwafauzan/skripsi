{
  "cells": [
    {
      "cell_type": "code",
      "execution_count": 1,
      "metadata": {
        "id": "W8VB4VQN-0qP"
      },
      "outputs": [],
      "source": [
        "import neurokit2 as nk"
      ]
    },
    {
      "cell_type": "code",
      "execution_count": 28,
      "metadata": {
        "id": "cOFEeUz_YI6E"
      },
      "outputs": [],
      "source": [
        "import pandas as pd\n",
        "import matplotlib.pyplot as plt\n",
        "import numpy as np\n",
        "import os"
      ]
    },
    {
      "cell_type": "code",
      "execution_count": null,
      "metadata": {},
      "outputs": [],
      "source": []
    },
    {
      "cell_type": "code",
      "execution_count": 29,
      "metadata": {
        "id": "he20S2jtYTVx"
      },
      "outputs": [],
      "source": [
        "# anita_max_tkr = pd.read_csv('anita_max_tkr.csv', sep=';')\n",
        "# nasah_max_tkr2 = pd.read_csv('nasah_max_tkr2.csv', sep=';')\n",
        "# nyu_max_tkr = pd.read_csv('nyu_max_tkr.csv', sep=';')\n",
        "# nasah_max_tkr2\n",
        "alikha_pulse_tkr = pd.read_csv(\"belom_diedit/alikha_pulse_tkr.csv\",sep =\";\")\n",
        "anita_pulse_tkr = pd.read_csv(\"belom_diedit/anita_pulse_tkr.csv\",sep =\";\")\n",
        "ecak_pulse_tkr = pd.read_csv(\"belom_diedit/ecak_pulse_tkr.csv\",sep =\";\")\n",
        "nasah_pulse_tkr = pd.read_csv(\"belom_diedit/nasah_pulse_tkr.csv\",sep =\";\")\n",
        "nyoman_pulse_tkr = pd.read_csv(\"belom_diedit/nyoman_pulse_tkr.csv\",sep =\";\")\n",
        "nyu_pulse_tkr = pd.read_csv(\"belom_diedit/nyu_pulse_tkr.csv\",sep =\";\")\n",
        "puci_pulse_tkr = pd.read_csv(\"belom_diedit/puci_pulse_tkr.csv\",sep =\";\")\n",
        "roshied_pulse_tkr = pd.read_csv(\"belom_diedit/roshied_pulse_tkr.csv\",sep =\";\")\n",
        "widi_pulse_tkr = pd.read_csv(\"belom_diedit/widi_pulse_tkr.csv\",sep =\";\")\n",
        "aldi_tkr = pd.read_csv(\"29-9-23/aldi_tkr.csv\",skiprows=13,sep =\",\")\n",
        "ary_tkr = pd.read_csv(\"29-9-23/ary_tkr.csv\",skiprows=13,sep =\",\")\n",
        "betari_tkr = pd.read_csv(\"29-9-23/betari_tkr.csv\",skiprows=13,sep =\",\")\n",
        "charisma_tkr = pd.read_csv(\"29-9-23/charisma_tkr.csv\",skiprows=13,sep =\",\")\n",
        "deva_tkr = pd.read_csv(\"29-9-23/deva_tkr.csv\",skiprows=13,sep =\",\")\n",
        "faiza_tkr = pd.read_csv(\"29-9-23/faiza_tkr.csv\",skiprows=13,sep =\",\")\n",
        "novi_tkr = pd.read_csv(\"29-9-23/novi_tkr.csv\",skiprows=13,sep =\",\")\n",
        "amel_pulse_tkr = pd.read_csv(\"data_awal/amel_pulse_tkr.csv\",sep =\";\")\n",
        "andika_pulse_tkr = pd.read_csv(\"data_awal/andika_pulse_tkr.csv\",sep =\";\")\n",
        "fauzi_pulse_tkr = pd.read_csv(\"data_awal/fauzi_pulse_tkr.csv\",sep =\";\")\n",
        "kanwa_pulse_tkr = pd.read_csv(\"data_awal/kanwa_pulse_tkr.csv\",sep =\";\")\n",
        "nandakkn_pulse_tkr = pd.read_csv(\"data_awal/nandakkn_pulse_tkr.csv\",sep =\";\")\n",
        "nanda_pulse_tkr = pd.read_csv(\"data_awal/nanda_pulse_tkr.csv\",sep =\";\")\n",
        "pradja_pulse_tkr = pd.read_csv(\"data_awal/pradja_pulse_tkr.csv\",sep =\";\")\n",
        "raihan_pulse_tkr = pd.read_csv(\"data_awal/raihan_pulse_tkr.csv\",sep =\";\")\n",
        "silvia_pulse_tkr = pd.read_csv(\"data_awal/silvia_pulse_tkr.csv\",sep =\";\")"
      ]
    },
    {
      "cell_type": "code",
      "execution_count": 30,
      "metadata": {},
      "outputs": [
        {
          "data": {
            "text/html": [
              "<div>\n",
              "<style scoped>\n",
              "    .dataframe tbody tr th:only-of-type {\n",
              "        vertical-align: middle;\n",
              "    }\n",
              "\n",
              "    .dataframe tbody tr th {\n",
              "        vertical-align: top;\n",
              "    }\n",
              "\n",
              "    .dataframe thead th {\n",
              "        text-align: right;\n",
              "    }\n",
              "</style>\n",
              "<table border=\"1\" class=\"dataframe\">\n",
              "  <thead>\n",
              "    <tr style=\"text-align: right;\">\n",
              "      <th></th>\n",
              "      <th>4001</th>\n",
              "      <th>0</th>\n",
              "    </tr>\n",
              "  </thead>\n",
              "  <tbody>\n",
              "    <tr>\n",
              "      <th>0</th>\n",
              "      <td>3998</td>\n",
              "      <td>0</td>\n",
              "    </tr>\n",
              "    <tr>\n",
              "      <th>1</th>\n",
              "      <td>4000</td>\n",
              "      <td>0</td>\n",
              "    </tr>\n",
              "    <tr>\n",
              "      <th>2</th>\n",
              "      <td>4002</td>\n",
              "      <td>0</td>\n",
              "    </tr>\n",
              "    <tr>\n",
              "      <th>3</th>\n",
              "      <td>4001</td>\n",
              "      <td>0</td>\n",
              "    </tr>\n",
              "    <tr>\n",
              "      <th>4</th>\n",
              "      <td>4013</td>\n",
              "      <td>0</td>\n",
              "    </tr>\n",
              "    <tr>\n",
              "      <th>...</th>\n",
              "      <td>...</td>\n",
              "      <td>...</td>\n",
              "    </tr>\n",
              "    <tr>\n",
              "      <th>20165</th>\n",
              "      <td>4001</td>\n",
              "      <td>202</td>\n",
              "    </tr>\n",
              "    <tr>\n",
              "      <th>20166</th>\n",
              "      <td>4004</td>\n",
              "      <td>202</td>\n",
              "    </tr>\n",
              "    <tr>\n",
              "      <th>20167</th>\n",
              "      <td>4011</td>\n",
              "      <td>202</td>\n",
              "    </tr>\n",
              "    <tr>\n",
              "      <th>20168</th>\n",
              "      <td>4006</td>\n",
              "      <td>202</td>\n",
              "    </tr>\n",
              "    <tr>\n",
              "      <th>20169</th>\n",
              "      <td>4012</td>\n",
              "      <td>202</td>\n",
              "    </tr>\n",
              "  </tbody>\n",
              "</table>\n",
              "<p>20170 rows × 2 columns</p>\n",
              "</div>"
            ],
            "text/plain": [
              "       4001    0\n",
              "0      3998    0\n",
              "1      4000    0\n",
              "2      4002    0\n",
              "3      4001    0\n",
              "4      4013    0\n",
              "...     ...  ...\n",
              "20165  4001  202\n",
              "20166  4004  202\n",
              "20167  4011  202\n",
              "20168  4006  202\n",
              "20169  4012  202\n",
              "\n",
              "[20170 rows x 2 columns]"
            ]
          },
          "execution_count": 30,
          "metadata": {},
          "output_type": "execute_result"
        }
      ],
      "source": [
        "amel_pulse_tkr"
      ]
    },
    {
      "cell_type": "code",
      "execution_count": 7,
      "metadata": {},
      "outputs": [],
      "source": [
        "# nasah_pulse_tkr.columns = ['ir','millis','detik']\n",
        "# nasah_pulse_tkr = nasah_pulse_tkr[0:1000]\n",
        "# nasah_pulse_tkr.to_json('nasah_pulse_tkr.json')"
      ]
    },
    {
      "cell_type": "code",
      "execution_count": 14,
      "metadata": {
        "id": "JBLrAyNdfhvp"
      },
      "outputs": [],
      "source": [
        "def preprocessPulse(path):\n",
        "  path.columns = [\"ir\",\"millis\",\"waktu\"]\n",
        "  path = path[(path.waktu >10)]\n",
        "  path = path[(path.waktu <=70)]\n",
        "\n",
        "  return path"
      ]
    },
    {
      "cell_type": "code",
      "execution_count": 15,
      "metadata": {},
      "outputs": [],
      "source": [
        "alikha_pulse_tkr = preprocessPulse(alikha_pulse_tkr)\n",
        "anita_pulse_tkr = preprocessPulse(anita_pulse_tkr)\n",
        "ecak_pulse_tkr = preprocessPulse(ecak_pulse_tkr)\n",
        "nasah_pulse_tkr = preprocessPulse(nasah_pulse_tkr)\n",
        "nyoman_pulse_tkr = preprocessPulse(nyoman_pulse_tkr)\n",
        "nyu_pulse_tkr = preprocessPulse(nyu_pulse_tkr)\n",
        "puci_pulse_tkr = preprocessPulse(puci_pulse_tkr)\n",
        "roshied_pulse_tkr = preprocessPulse(roshied_pulse_tkr)\n",
        "widi_pulse_tkr = preprocessPulse(widi_pulse_tkr)\n",
        "# anita_max_tkr = preprocessMax(anita_max_tkr)\n",
        "# nasah_max_tkr2 = preprocessMax(nasah_max_tkr2)\n",
        "# nyu_max_tkr = preprocessMax(nyu_max_tkr)\n"
      ]
    },
    {
      "cell_type": "code",
      "execution_count": null,
      "metadata": {},
      "outputs": [],
      "source": [
        "# nasah_pulse_tkr = nasah_pulse_tkr[(nasah_pulse_tkr.waktu <= 30)]\n",
        "# nasah_pulse_tkr.to_json('nasah_pulse_tkr.json')"
      ]
    },
    {
      "cell_type": "code",
      "execution_count": null,
      "metadata": {
        "id": "5SAw0JiToaWO"
      },
      "outputs": [],
      "source": [
        "# visky.plot(figsize = (50,10))\n",
        "# elya"
      ]
    },
    {
      "cell_type": "code",
      "execution_count": null,
      "metadata": {
        "id": "QrmyEUt_CDEt"
      },
      "outputs": [],
      "source": [
        "# fauzi[3000:4000].plot(figsize = (5,5))"
      ]
    },
    {
      "cell_type": "code",
      "execution_count": 17,
      "metadata": {
        "colab": {
          "base_uri": "https://localhost:8080/",
          "height": 424
        },
        "id": "1q9iRJ16gQDT",
        "outputId": "0bc888e7-e3f3-4549-aab8-b5691878fd4b"
      },
      "outputs": [],
      "source": [
        "# anita_max_tkr['r'].plot()"
      ]
    },
    {
      "cell_type": "code",
      "execution_count": 19,
      "metadata": {
        "colab": {
          "base_uri": "https://localhost:8080/",
          "height": 452
        },
        "id": "ThgrUmaN_rIm",
        "outputId": "17e23114-6840-4a82-a793-eb7782fd756b"
      },
      "outputs": [],
      "source": [
        "def awal_bgt(path):\n",
        "    ppg_path = nk.ppg_clean(path[['ir']], sampling_rate=250)\n",
        "    peaks_path = nk.ppg_findpeaks(ppg_path, sampling_rate=35, show=False)\n",
        "    return peaks_path\n",
        "\n",
        "def cleanPeak(path):\n",
        "    ppg_path = nk.ppg_clean(path[['ir']], sampling_rate=250)\n",
        "    peaks_path = nk.ppg_findpeaks(ppg_path, sampling_rate=35, show=False)\n",
        "    return peaks_path\n",
        "\n",
        "def cleanPeakMax(path):\n",
        "    ppg_path = nk.ppg_clean(path[['ir']], sampling_rate=100)\n",
        "    peaks_path = nk.ppg_findpeaks(ppg_path, sampling_rate=35, show=False)\n",
        "    return peaks_path\n",
        "\n",
        "peaks_alikha_pulse_tkr = cleanPeak(alikha_pulse_tkr)\n",
        "peaks_anita_pulse_tkr = cleanPeak(anita_pulse_tkr)\n",
        "peaks_ecak_pulse_tkr = cleanPeak(ecak_pulse_tkr)\n",
        "peaks_nasah_pulse_tkr = cleanPeak(nasah_pulse_tkr)\n",
        "peaks_nyoman_pulse_tkr = cleanPeak(nyoman_pulse_tkr)\n",
        "peaks_nyu_pulse_tkr = cleanPeak(nyu_pulse_tkr)\n",
        "peaks_puci_pulse_tkr = cleanPeak(puci_pulse_tkr)\n",
        "peaks_roshied_pulse_tkr = cleanPeak(roshied_pulse_tkr)\n",
        "peaks_widi_pulse_tkr = cleanPeak(widi_pulse_tkr)\n",
        "\n",
        "# peaks_anita_max_tkr = cleanPeakMax(anita_max_tkr)\n",
        "# peaks_nasah_max_tkr2 = cleanPeakMax(nasah_max_tkr2)\n",
        "# peaks_nyu_max_tkr = cleanPeakMax(nyu_max_tkr)"
      ]
    },
    {
      "cell_type": "code",
      "execution_count": 21,
      "metadata": {
        "colab": {
          "base_uri": "https://localhost:8080/",
          "height": 467
        },
        "id": "WgK51jqAjiiW",
        "outputId": "61e4d5f8-38cb-446e-833d-50a6140fd019"
      },
      "outputs": [],
      "source": [
        "# peaks_nasah_max_tkr2 = pd.DataFrame(peaks_nasah_max_tkr2)\n",
        "# peaks_nasah_max_tkr2_diff = peaks_nasah_max_tkr2.diff()\n",
        "# peaks_nasah_max_tkr2_diff[1:]\n",
        "# len(peaks_nasah_max_tkr2_diff)\n",
        "# angka = np.arange(1,len(peaks_nasah_max_tkr2_diff),1)\n",
        "# len(angka)\n",
        "# peaks_nasah_max_tkr2_diff.plot(kind = 'scatter', x = 'PPG_Peaks', y = 'PPG_Peaks'  )\n",
        "\n",
        "# plt.plot(peaks_nasah_max_tkr2.diff())"
      ]
    },
    {
      "cell_type": "code",
      "execution_count": 22,
      "metadata": {
        "id": "MMWfIH86qAzk"
      },
      "outputs": [],
      "source": [
        "def feature(peak):\n",
        "  peak = pd.DataFrame(peak)\n",
        "  hr = peak.count()/(1)\n",
        "  hrv = peak.diff().var()\n",
        "  std = peak.diff().std()\n",
        "\n",
        "  return hr,hrv,std"
      ]
    },
    {
      "cell_type": "code",
      "execution_count": 23,
      "metadata": {
        "id": "CxdIjGwSqvSf"
      },
      "outputs": [],
      "source": [
        "hr_alikha_pulse_tkr,hrv_alikha_pulse_tkr,std_alikha_pulse_tkr = feature(peaks_alikha_pulse_tkr)\n",
        "hr_anita_pulse_tkr,hrv_anita_pulse_tkr,std_anita_pulse_tkr = feature(peaks_anita_pulse_tkr)\n",
        "hr_ecak_pulse_tkr,hrv_ecak_pulse_tkr,std_ecak_pulse_tkr = feature(peaks_ecak_pulse_tkr)\n",
        "hr_nasah_pulse_tkr,hrv_nasah_pulse_tkr,std_nasah_pulse_tkr = feature(peaks_nasah_pulse_tkr)\n",
        "hr_nyoman_pulse_tkr,hrv_nyoman_pulse_tkr,std_nyoman_pulse_tkr = feature(peaks_nyoman_pulse_tkr)\n",
        "hr_nyu_pulse_tkr,hrv_nyu_pulse_tkr,std_nyu_pulse_tkr = feature(peaks_nyu_pulse_tkr)\n",
        "hr_puci_pulse_tkr,hrv_puci_pulse_tkr,std_puci_pulse_tkr = feature(peaks_puci_pulse_tkr)\n",
        "hr_roshied_pulse_tkr,hrv_roshied_pulse_tkr,std_roshied_pulse_tkr = feature(peaks_roshied_pulse_tkr)\n",
        "hr_widi_pulse_tkr,hrv_widi_pulse_tkr,std_widi_pulse_tkr = feature(peaks_widi_pulse_tkr)\n",
        "# hr_anita_max_tkr,hrv_anita_max_tkr,std_anita_max_tkr = feature(peaks_anita_max_tkr)\n",
        "# hr_nasah_max_tkr2,hrv_nasah_max_tkr2,std_nasah_max_tkr2 = feature(peaks_nasah_max_tkr2)\n",
        "# hr_nyu_max_tkr,hrv_nyu_max_tkr,std_nyu_max_tkr = feature(peaks_nyu_max_tkr)\n",
        "\n",
        "# hr_alikha_pulse_tkr\n"
      ]
    },
    {
      "cell_type": "code",
      "execution_count": 26,
      "metadata": {
        "colab": {
          "base_uri": "https://localhost:8080/",
          "height": 363
        },
        "id": "ypRCx8CqXgkc",
        "outputId": "f905a080-b59d-42ad-8f63-918f8a81e14e"
      },
      "outputs": [
        {
          "name": "stderr",
          "output_type": "stream",
          "text": [
            "C:\\Users\\MY ASUS\\AppData\\Local\\Temp\\ipykernel_13304\\2562403793.py:17: FutureWarning: Calling int on a single element Series is deprecated and will raise a TypeError in the future. Use int(ser.iloc[0]) instead\n",
            "  int(hr_alikha_pulse_tkr),\n",
            "C:\\Users\\MY ASUS\\AppData\\Local\\Temp\\ipykernel_13304\\2562403793.py:18: FutureWarning: Calling int on a single element Series is deprecated and will raise a TypeError in the future. Use int(ser.iloc[0]) instead\n",
            "  int(hr_anita_pulse_tkr),\n",
            "C:\\Users\\MY ASUS\\AppData\\Local\\Temp\\ipykernel_13304\\2562403793.py:19: FutureWarning: Calling int on a single element Series is deprecated and will raise a TypeError in the future. Use int(ser.iloc[0]) instead\n",
            "  int(hr_ecak_pulse_tkr),\n",
            "C:\\Users\\MY ASUS\\AppData\\Local\\Temp\\ipykernel_13304\\2562403793.py:20: FutureWarning: Calling int on a single element Series is deprecated and will raise a TypeError in the future. Use int(ser.iloc[0]) instead\n",
            "  int(hr_nasah_pulse_tkr),\n",
            "C:\\Users\\MY ASUS\\AppData\\Local\\Temp\\ipykernel_13304\\2562403793.py:21: FutureWarning: Calling int on a single element Series is deprecated and will raise a TypeError in the future. Use int(ser.iloc[0]) instead\n",
            "  int(hr_nyoman_pulse_tkr),\n",
            "C:\\Users\\MY ASUS\\AppData\\Local\\Temp\\ipykernel_13304\\2562403793.py:22: FutureWarning: Calling int on a single element Series is deprecated and will raise a TypeError in the future. Use int(ser.iloc[0]) instead\n",
            "  int(hr_nyu_pulse_tkr),\n",
            "C:\\Users\\MY ASUS\\AppData\\Local\\Temp\\ipykernel_13304\\2562403793.py:23: FutureWarning: Calling int on a single element Series is deprecated and will raise a TypeError in the future. Use int(ser.iloc[0]) instead\n",
            "  int(hr_puci_pulse_tkr),\n",
            "C:\\Users\\MY ASUS\\AppData\\Local\\Temp\\ipykernel_13304\\2562403793.py:24: FutureWarning: Calling int on a single element Series is deprecated and will raise a TypeError in the future. Use int(ser.iloc[0]) instead\n",
            "  int(hr_roshied_pulse_tkr),\n",
            "C:\\Users\\MY ASUS\\AppData\\Local\\Temp\\ipykernel_13304\\2562403793.py:25: FutureWarning: Calling int on a single element Series is deprecated and will raise a TypeError in the future. Use int(ser.iloc[0]) instead\n",
            "  int(hr_widi_pulse_tkr),\n",
            "C:\\Users\\MY ASUS\\AppData\\Local\\Temp\\ipykernel_13304\\2562403793.py:31: FutureWarning: Calling int on a single element Series is deprecated and will raise a TypeError in the future. Use int(ser.iloc[0]) instead\n",
            "  int(hrv_alikha_pulse_tkr),\n",
            "C:\\Users\\MY ASUS\\AppData\\Local\\Temp\\ipykernel_13304\\2562403793.py:32: FutureWarning: Calling int on a single element Series is deprecated and will raise a TypeError in the future. Use int(ser.iloc[0]) instead\n",
            "  int(hrv_anita_pulse_tkr),\n",
            "C:\\Users\\MY ASUS\\AppData\\Local\\Temp\\ipykernel_13304\\2562403793.py:33: FutureWarning: Calling int on a single element Series is deprecated and will raise a TypeError in the future. Use int(ser.iloc[0]) instead\n",
            "  int(hrv_ecak_pulse_tkr),\n",
            "C:\\Users\\MY ASUS\\AppData\\Local\\Temp\\ipykernel_13304\\2562403793.py:34: FutureWarning: Calling int on a single element Series is deprecated and will raise a TypeError in the future. Use int(ser.iloc[0]) instead\n",
            "  int(hrv_nasah_pulse_tkr),\n",
            "C:\\Users\\MY ASUS\\AppData\\Local\\Temp\\ipykernel_13304\\2562403793.py:35: FutureWarning: Calling int on a single element Series is deprecated and will raise a TypeError in the future. Use int(ser.iloc[0]) instead\n",
            "  int(hrv_nyoman_pulse_tkr),\n",
            "C:\\Users\\MY ASUS\\AppData\\Local\\Temp\\ipykernel_13304\\2562403793.py:36: FutureWarning: Calling int on a single element Series is deprecated and will raise a TypeError in the future. Use int(ser.iloc[0]) instead\n",
            "  int(hrv_nyu_pulse_tkr),\n",
            "C:\\Users\\MY ASUS\\AppData\\Local\\Temp\\ipykernel_13304\\2562403793.py:37: FutureWarning: Calling int on a single element Series is deprecated and will raise a TypeError in the future. Use int(ser.iloc[0]) instead\n",
            "  int(hrv_puci_pulse_tkr),\n",
            "C:\\Users\\MY ASUS\\AppData\\Local\\Temp\\ipykernel_13304\\2562403793.py:38: FutureWarning: Calling int on a single element Series is deprecated and will raise a TypeError in the future. Use int(ser.iloc[0]) instead\n",
            "  int(hrv_roshied_pulse_tkr),\n",
            "C:\\Users\\MY ASUS\\AppData\\Local\\Temp\\ipykernel_13304\\2562403793.py:39: FutureWarning: Calling int on a single element Series is deprecated and will raise a TypeError in the future. Use int(ser.iloc[0]) instead\n",
            "  int(hrv_widi_pulse_tkr),\n",
            "C:\\Users\\MY ASUS\\AppData\\Local\\Temp\\ipykernel_13304\\2562403793.py:45: FutureWarning: Calling int on a single element Series is deprecated and will raise a TypeError in the future. Use int(ser.iloc[0]) instead\n",
            "  int(std_alikha_pulse_tkr),\n",
            "C:\\Users\\MY ASUS\\AppData\\Local\\Temp\\ipykernel_13304\\2562403793.py:46: FutureWarning: Calling int on a single element Series is deprecated and will raise a TypeError in the future. Use int(ser.iloc[0]) instead\n",
            "  int(std_anita_pulse_tkr),\n",
            "C:\\Users\\MY ASUS\\AppData\\Local\\Temp\\ipykernel_13304\\2562403793.py:47: FutureWarning: Calling int on a single element Series is deprecated and will raise a TypeError in the future. Use int(ser.iloc[0]) instead\n",
            "  int(std_ecak_pulse_tkr),\n",
            "C:\\Users\\MY ASUS\\AppData\\Local\\Temp\\ipykernel_13304\\2562403793.py:48: FutureWarning: Calling int on a single element Series is deprecated and will raise a TypeError in the future. Use int(ser.iloc[0]) instead\n",
            "  int(std_nasah_pulse_tkr),\n",
            "C:\\Users\\MY ASUS\\AppData\\Local\\Temp\\ipykernel_13304\\2562403793.py:49: FutureWarning: Calling int on a single element Series is deprecated and will raise a TypeError in the future. Use int(ser.iloc[0]) instead\n",
            "  int(std_nyoman_pulse_tkr),\n",
            "C:\\Users\\MY ASUS\\AppData\\Local\\Temp\\ipykernel_13304\\2562403793.py:50: FutureWarning: Calling int on a single element Series is deprecated and will raise a TypeError in the future. Use int(ser.iloc[0]) instead\n",
            "  int(std_nyu_pulse_tkr),\n",
            "C:\\Users\\MY ASUS\\AppData\\Local\\Temp\\ipykernel_13304\\2562403793.py:51: FutureWarning: Calling int on a single element Series is deprecated and will raise a TypeError in the future. Use int(ser.iloc[0]) instead\n",
            "  int(std_puci_pulse_tkr),\n",
            "C:\\Users\\MY ASUS\\AppData\\Local\\Temp\\ipykernel_13304\\2562403793.py:52: FutureWarning: Calling int on a single element Series is deprecated and will raise a TypeError in the future. Use int(ser.iloc[0]) instead\n",
            "  int(std_roshied_pulse_tkr),\n",
            "C:\\Users\\MY ASUS\\AppData\\Local\\Temp\\ipykernel_13304\\2562403793.py:53: FutureWarning: Calling int on a single element Series is deprecated and will raise a TypeError in the future. Use int(ser.iloc[0]) instead\n",
            "  int(std_widi_pulse_tkr),\n"
          ]
        }
      ],
      "source": [
        "data = {\n",
        "'Nama' : [\n",
        "\"alikha_pulse_tkr\",\n",
        "\"anita_pulse_tkr\",\n",
        "\"ecak_pulse_tkr\",\n",
        "\"nasah_pulse_tkr\",\n",
        "\"nyoman_pulse_tkr\",\n",
        "\"nyu_pulse_tkr\",\n",
        "\"puci_pulse_tkr\",\n",
        "\"roshied_pulse_tkr\",\n",
        "\"widi_pulse_tkr\",\n",
        "# \"anita_max_tkr\",\n",
        "# \"nasah_max_tkr2\",\n",
        "# \"nyu_max_tkr\",\n",
        "],\n",
        "'HR' : [\n",
        "int(hr_alikha_pulse_tkr),\n",
        "int(hr_anita_pulse_tkr),\n",
        "int(hr_ecak_pulse_tkr),\n",
        "int(hr_nasah_pulse_tkr),\n",
        "int(hr_nyoman_pulse_tkr),\n",
        "int(hr_nyu_pulse_tkr),\n",
        "int(hr_puci_pulse_tkr),\n",
        "int(hr_roshied_pulse_tkr),\n",
        "int(hr_widi_pulse_tkr),\n",
        "# int(hr_anita_max_tkr),\n",
        "# int(hr_nasah_max_tkr2),\n",
        "# int(hr_nyu_max_tkr),\n",
        "],\n",
        "'HRV' : [\n",
        "int(hrv_alikha_pulse_tkr),\n",
        "int(hrv_anita_pulse_tkr),\n",
        "int(hrv_ecak_pulse_tkr),\n",
        "int(hrv_nasah_pulse_tkr),\n",
        "int(hrv_nyoman_pulse_tkr),\n",
        "int(hrv_nyu_pulse_tkr),\n",
        "int(hrv_puci_pulse_tkr),\n",
        "int(hrv_roshied_pulse_tkr),\n",
        "int(hrv_widi_pulse_tkr),\n",
        "# int(hrv_anita_max_tkr),\n",
        "# int(hrv_nasah_max_tkr2),\n",
        "# int(hrv_nyu_max_tkr),\n",
        "],\n",
        "'STD' : [\n",
        "int(std_alikha_pulse_tkr),\n",
        "int(std_anita_pulse_tkr),\n",
        "int(std_ecak_pulse_tkr),\n",
        "int(std_nasah_pulse_tkr),\n",
        "int(std_nyoman_pulse_tkr),\n",
        "int(std_nyu_pulse_tkr),\n",
        "int(std_puci_pulse_tkr),\n",
        "int(std_roshied_pulse_tkr),\n",
        "int(std_widi_pulse_tkr),\n",
        "# int(std_anita_max_tkr),\n",
        "# int(std_nasah_max_tkr2),\n",
        "# int(std_nyu_max_tkr),\n",
        "]}"
      ]
    },
    {
      "cell_type": "code",
      "execution_count": 27,
      "metadata": {},
      "outputs": [
        {
          "data": {
            "text/html": [
              "<div>\n",
              "<style scoped>\n",
              "    .dataframe tbody tr th:only-of-type {\n",
              "        vertical-align: middle;\n",
              "    }\n",
              "\n",
              "    .dataframe tbody tr th {\n",
              "        vertical-align: top;\n",
              "    }\n",
              "\n",
              "    .dataframe thead th {\n",
              "        text-align: right;\n",
              "    }\n",
              "</style>\n",
              "<table border=\"1\" class=\"dataframe\">\n",
              "  <thead>\n",
              "    <tr style=\"text-align: right;\">\n",
              "      <th></th>\n",
              "      <th>Nama</th>\n",
              "      <th>HR</th>\n",
              "      <th>HRV</th>\n",
              "      <th>STD</th>\n",
              "    </tr>\n",
              "  </thead>\n",
              "  <tbody>\n",
              "    <tr>\n",
              "      <th>0</th>\n",
              "      <td>alikha_pulse_tkr</td>\n",
              "      <td>81</td>\n",
              "      <td>36</td>\n",
              "      <td>6</td>\n",
              "    </tr>\n",
              "    <tr>\n",
              "      <th>1</th>\n",
              "      <td>anita_pulse_tkr</td>\n",
              "      <td>79</td>\n",
              "      <td>86</td>\n",
              "      <td>9</td>\n",
              "    </tr>\n",
              "    <tr>\n",
              "      <th>2</th>\n",
              "      <td>ecak_pulse_tkr</td>\n",
              "      <td>83</td>\n",
              "      <td>86</td>\n",
              "      <td>9</td>\n",
              "    </tr>\n",
              "    <tr>\n",
              "      <th>3</th>\n",
              "      <td>nasah_pulse_tkr</td>\n",
              "      <td>97</td>\n",
              "      <td>4</td>\n",
              "      <td>2</td>\n",
              "    </tr>\n",
              "    <tr>\n",
              "      <th>4</th>\n",
              "      <td>nyoman_pulse_tkr</td>\n",
              "      <td>98</td>\n",
              "      <td>19</td>\n",
              "      <td>4</td>\n",
              "    </tr>\n",
              "    <tr>\n",
              "      <th>5</th>\n",
              "      <td>nyu_pulse_tkr</td>\n",
              "      <td>66</td>\n",
              "      <td>70</td>\n",
              "      <td>8</td>\n",
              "    </tr>\n",
              "    <tr>\n",
              "      <th>6</th>\n",
              "      <td>puci_pulse_tkr</td>\n",
              "      <td>95</td>\n",
              "      <td>34</td>\n",
              "      <td>5</td>\n",
              "    </tr>\n",
              "    <tr>\n",
              "      <th>7</th>\n",
              "      <td>roshied_pulse_tkr</td>\n",
              "      <td>75</td>\n",
              "      <td>202</td>\n",
              "      <td>14</td>\n",
              "    </tr>\n",
              "    <tr>\n",
              "      <th>8</th>\n",
              "      <td>widi_pulse_tkr</td>\n",
              "      <td>103</td>\n",
              "      <td>19</td>\n",
              "      <td>4</td>\n",
              "    </tr>\n",
              "  </tbody>\n",
              "</table>\n",
              "</div>"
            ],
            "text/plain": [
              "                Nama   HR  HRV  STD\n",
              "0   alikha_pulse_tkr   81   36    6\n",
              "1    anita_pulse_tkr   79   86    9\n",
              "2     ecak_pulse_tkr   83   86    9\n",
              "3    nasah_pulse_tkr   97    4    2\n",
              "4   nyoman_pulse_tkr   98   19    4\n",
              "5      nyu_pulse_tkr   66   70    8\n",
              "6     puci_pulse_tkr   95   34    5\n",
              "7  roshied_pulse_tkr   75  202   14\n",
              "8     widi_pulse_tkr  103   19    4"
            ]
          },
          "execution_count": 27,
          "metadata": {},
          "output_type": "execute_result"
        }
      ],
      "source": [
        "data = pd.DataFrame(data)\n",
        "# data.to_excel('dass.xlsx')\n",
        "data"
      ]
    }
  ],
  "metadata": {
    "colab": {
      "provenance": []
    },
    "kernelspec": {
      "display_name": "Python 3",
      "name": "python3"
    },
    "language_info": {
      "codemirror_mode": {
        "name": "ipython",
        "version": 3
      },
      "file_extension": ".py",
      "mimetype": "text/x-python",
      "name": "python",
      "nbconvert_exporter": "python",
      "pygments_lexer": "ipython3",
      "version": "3.9.13"
    }
  },
  "nbformat": 4,
  "nbformat_minor": 0
}
