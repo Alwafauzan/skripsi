{
 "cells": [
  {
   "cell_type": "code",
   "execution_count": 25,
   "metadata": {},
   "outputs": [],
   "source": [
    "import statistics\n",
    "import pandas as pd\n",
    "\n",
    "amel = pd.read_csv('amel_tkr.csv', sep=';')\n",
    "amel100 = amel[0:1000]\n",
    "amel100.columns = ['ir','t']\n",
    "amel1000 = amel100['ir']"
   ]
  },
  {
   "cell_type": "code",
   "execution_count": 26,
   "metadata": {},
   "outputs": [
    {
     "data": {
      "text/plain": [
       "1071.0"
      ]
     },
     "execution_count": 26,
     "metadata": {},
     "output_type": "execute_result"
    }
   ],
   "source": [
    "thres = float(statistics.median(amel1000))\n",
    "thres"
   ]
  },
  {
   "cell_type": "code",
   "execution_count": 32,
   "metadata": {},
   "outputs": [],
   "source": [
    "step_1 = [0]*len(amel1000)\n",
    "for i in range(len(amel1000)):\n",
    "  if(amel1000[i] >= thres):\n",
    "    step_1[i] = 1\n",
    "  else:\n",
    "    step_1[i] = 0"
   ]
  },
  {
   "cell_type": "code",
   "execution_count": 33,
   "metadata": {},
   "outputs": [],
   "source": [
    "  # Step 2\n",
    "step_2 = [0]*len(amel1000)\n",
    "for i in range(len(amel1000)-1):\n",
    " step_2[i] = step_1[i+1] - step_1[i]"
   ]
  },
  {
   "cell_type": "code",
   "execution_count": 35,
   "metadata": {},
   "outputs": [],
   "source": [
    "# Step 3\n",
    "T_min_1 = [0]\n",
    "for i in range(len(amel1000)-1):\n",
    "  if(step_2[i]==-1):\n",
    "    T_min_1.append(i)\n",
    "step_3 = [0]*(len(T_min_1)-1)\n",
    "T_maks = []\n",
    "for i in range(len(T_min_1)-1):\n",
    "  temp = []\n",
    "  temp_T = 0\n",
    "  temp_val = 0\n",
    "  for j in range(T_min_1[i], T_min_1[i+1]):\n",
    "    temp.append(amel1000[j])\n",
    "    if(amel1000[j] > temp_val):\n",
    "      temp_val = amel1000[j]\n",
    "      temp_T = j\n",
    "  step_3[i] = max(temp)\n",
    "  T_maks.append(temp_T)"
   ]
  },
  {
   "cell_type": "code",
   "execution_count": null,
   "metadata": {},
   "outputs": [],
   "source": [
    "def findPeakValley(signal):\n",
    "  # Step 1\n",
    "  thres = float(statistics.median(signal))\n",
    "  print(thres)\n",
    "  \n",
    "\n",
    "  \n",
    "  # Step 4\n",
    "  T_max_1 = []\n",
    "  for i in range(len(signal)-1):\n",
    "    if(step_2[i]==1):\n",
    "      T_max_1.append(i)\n",
    "  T_max_1.append(len(signal))\n",
    "  step_4= [0]*(len(T_max_1)-1)\n",
    "  T_min = []\n",
    "  for i in range(len(T_max_1)-1):\n",
    "    temp = []\n",
    "    temp_T = 0\n",
    "    temp_val = 1\n",
    "    for j in range(T_max_1[i], T_max_1[i+1]):\n",
    "      temp.append(signal[j])\n",
    "      if(signal[j] < temp_val):\n",
    "        temp_val = signal[j]\n",
    "        temp_T = j\n",
    "    step_4[i] = min(temp)\n",
    "    T_min.append(temp_T)\n",
    "  return T_maks, step_3, T_min, step_4"
   ]
  }
 ],
 "metadata": {
  "kernelspec": {
   "display_name": "Python 3",
   "language": "python",
   "name": "python3"
  },
  "language_info": {
   "codemirror_mode": {
    "name": "ipython",
    "version": 3
   },
   "file_extension": ".py",
   "mimetype": "text/x-python",
   "name": "python",
   "nbconvert_exporter": "python",
   "pygments_lexer": "ipython3",
   "version": "3.9.13"
  },
  "orig_nbformat": 4
 },
 "nbformat": 4,
 "nbformat_minor": 2
}
