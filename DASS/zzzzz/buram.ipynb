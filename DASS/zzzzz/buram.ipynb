{
  "cells": [
    {
      "cell_type": "code",
      "execution_count": null,
      "metadata": {},
      "outputs": [],
      "source": [
        "amel_pulse_tkr = pd.read_csv(\"data/data_awal/amel_pulse_tkr.csv\",sep =\";\")\n",
        "andika_pulse_tkr = pd.read_csv(\"data/data_awal/andika_pulse_tkr.csv\",sep =\";\")\n",
        "fauzi_pulse_tkr = pd.read_csv(\"data/data_awal/fauzi_pulse_tkr.csv\",sep =\";\")\n",
        "kanwa_pulse_tkr = pd.read_csv(\"data/data_awal/kanwa_pulse_tkr.csv\",sep =\";\")\n",
        "nandakkn_pulse_tkr = pd.read_csv(\"data/data_awal/nandakkn_pulse_tkr.csv\",sep =\";\")\n",
        "nanda_pulse_tkr = pd.read_csv(\"data/data_awal/nanda_pulse_tkr.csv\",sep =\";\")\n",
        "pradja_pulse_tkr = pd.read_csv(\"data/data_awal/pradja_pulse_tkr.csv\",sep =\";\")\n",
        "raihan_pulse_tkr = pd.read_csv(\"data/data_awal/raihan_pulse_tkr.csv\",sep =\";\")\n",
        "silvia_pulse_tkr = pd.read_csv(\"data/data_awal/silvia_pulse_tkr.csv\",sep =\";\")\n",
        "alikha_pulse_tkr = pd.read_csv(\"data/belom_diedit/alikha_pulse_tkr.csv\",sep =\";\")\n",
        "anita_pulse_tkr = pd.read_csv(\"data/belom_diedit/anita_pulse_tkr.csv\",sep =\";\")\n",
        "ecak_pulse_tkr = pd.read_csv(\"data/belom_diedit/ecak_pulse_tkr.csv\",sep =\";\")\n",
        "nasah_pulse_tkr = pd.read_csv(\"data/belom_diedit/nasah_pulse_tkr.csv\",sep =\";\")\n",
        "nyoman_pulse_tkr = pd.read_csv(\"data/belom_diedit/nyoman_pulse_tkr.csv\",sep =\";\")\n",
        "nyu_pulse_tkr = pd.read_csv(\"data/belom_diedit/nyu_pulse_tkr.csv\",sep =\";\")\n",
        "puci_pulse_tkr = pd.read_csv(\"data/belom_diedit/puci_pulse_tkr.csv\",sep =\";\")\n",
        "roshied_pulse_tkr = pd.read_csv(\"data/belom_diedit/roshied_pulse_tkr.csv\",sep =\";\")\n",
        "widi_pulse_tkr = pd.read_csv(\"data/belom_diedit/widi_pulse_tkr.csv\",sep =\";\")\n",
        "aldi_tkr = pd.read_csv(\"data/29-9-23/aldi_tkr.csv\",skiprows=13,sep =\",\")\n",
        "ary_tkr = pd.read_csv(\"data/29-9-23/ary_tkr.csv\",skiprows=13,sep =\",\")\n",
        "betari_tkr = pd.read_csv(\"data/29-9-23/betari_tkr.csv\",skiprows=13,sep =\",\")\n",
        "charisma_tkr = pd.read_csv(\"data/29-9-23/charisma_tkr.csv\",skiprows=13,sep =\",\")\n",
        "deva_tkr = pd.read_csv(\"data/29-9-23/deva_tkr.csv\",skiprows=13,sep =\",\")\n",
        "faiza_tkr = pd.read_csv(\"data/29-9-23/faiza_tkr.csv\",skiprows=13,sep =\",\")\n",
        "novi_tkr = pd.read_csv(\"data/29-9-23/novi_tkr.csv\",skiprows=13,sep =\",\")\n",
        "bunga_tkr = pd.read_csv('data/19-10-23/bunga_tkr.csv',skiprows=2,sep=',') \n",
        "hilmy_tkr = pd.read_csv('data/19-10-23/hilmy_tkr.csv',skiprows=2,sep=',') \n",
        "ilma_tkr = pd.read_csv('data/19-10-23/ilma_tkr.csv',skiprows=2,sep=',') \n",
        "maha_tkr = pd.read_csv('data/19-10-23/maha_tkr.csv',skiprows=2,sep=',') \n",
        "nisa_tkr = pd.read_csv('data/19-10-23/nisa_tkr.csv',skiprows=2,sep=',') \n",
        "rima_tkr = pd.read_csv('data/19-10-23/rima_tkr.csv',skiprows=2,sep=',') \n",
        "winanda_tkr = pd.read_csv('data/19-10-23/winanda_tkr.csv',skiprows=2,sep=',')\n",
        "izmi_tkr = pd.read_csv('data/21-10-23/izmi_tkr.csv',skiprows=2,sep=',')"
      ]
    },
    {
      "cell_type": "code",
      "execution_count": null,
      "metadata": {},
      "outputs": [],
      "source": [
        "alikha_pulse_tkr.drop(alikha_pulse_tkr.columns[1], axis=1, inplace=True)\n",
        "anita_pulse_tkr.drop(anita_pulse_tkr.columns[1], axis=1, inplace=True)\n",
        "ecak_pulse_tkr.drop(ecak_pulse_tkr.columns[1], axis=1, inplace=True)\n",
        "nasah_pulse_tkr.drop(nasah_pulse_tkr.columns[1], axis=1, inplace=True)\n",
        "nyoman_pulse_tkr.drop(nyoman_pulse_tkr.columns[1], axis=1, inplace=True)\n",
        "nyu_pulse_tkr.drop(nyu_pulse_tkr.columns[1], axis=1, inplace=True)\n",
        "puci_pulse_tkr.drop(puci_pulse_tkr.columns[1], axis=1, inplace=True)\n",
        "roshied_pulse_tkr.drop(roshied_pulse_tkr.columns[1], axis=1, inplace=True)\n",
        "widi_pulse_tkr.drop(widi_pulse_tkr.columns[1], axis=1, inplace=True)"
      ]
    },
    {
      "cell_type": "code",
      "execution_count": 19,
      "metadata": {
        "colab": {
          "base_uri": "https://localhost:8080/",
          "height": 452
        },
        "id": "ThgrUmaN_rIm",
        "outputId": "17e23114-6840-4a82-a793-eb7782fd756b"
      },
      "outputs": [],
      "source": [
        "def awal_bgt(path):\n",
        "    ppg_path = nk.ppg_clean(path[['ir']], sampling_rate=250)\n",
        "    peaks_path = nk.ppg_findpeaks(ppg_path, sampling_rate=35, show=False)\n",
        "    return peaks_path\n",
        "\n",
        "def cleanPeak(path):\n",
        "    ppg_path = nk.ppg_clean(path[['ir']], sampling_rate=250)\n",
        "    peaks_path = nk.ppg_findpeaks(ppg_path, sampling_rate=35, show=False)\n",
        "    return peaks_path\n",
        "\n",
        "def cleanPeakMax(path):\n",
        "    ppg_path = nk.ppg_clean(path[['ir']], sampling_rate=100)\n",
        "    peaks_path = nk.ppg_findpeaks(ppg_path, sampling_rate=35, show=False)\n",
        "    return peaks_path"
      ]
    },
    {
      "cell_type": "code",
      "execution_count": null,
      "metadata": {},
      "outputs": [
        {
          "data": {
            "text/plain": [
              "<Axes: xlabel='PPG_Peaks', ylabel='PPG_Peaks'>"
            ]
          },
          "metadata": {},
          "output_type": "display_data"
        },
        {
          "data": {
            "image/png": "[encoded data removed]",
            "text/plain": [
              "<Figure size 640x480 with 1 Axes>"
            ]
          },
          "metadata": {},
          "output_type": "display_data"
        }
      ],
      "source": [
        "peaks_pradja = pd.DataFrame(peaks_pradja)\n",
        "peaks_pradja_diff = peaks_pradja.diff()\n",
        "# peaks_pradja_diff[1:]\n",
        "# len(peaks_pradja_diff)\n",
        "# angka = np.arange(1,len(peaks_pradja_diff),1)\n",
        "# len(angka)\n",
        "peaks_pradja_diff.plot(kind = 'scatter', x = 'PPG_Peaks', y = 'PPG_Peaks'  )\n",
        "\n",
        "# plt.plot(peaks_pradja.diff())"
      ]
    },
    {
      "cell_type": "code",
      "execution_count": null,
      "metadata": {},
      "outputs": [],
      "source": [
        "from sklearn.preprocessing import MinMaxScaler\n",
        "\n",
        "def minmax(path):\n",
        "  minmax = MinMaxScaler(feature_range=(0,1))\n",
        "\n",
        "  path_minmax = minmax.fit_transform(path)\n",
        "  path_minmax_ppg = pd.DataFrame(path_minmax)[0]\n",
        "  return path_minmax,path_minmax_ppg\n",
        "\n",
        "data,data1 = minmax(amel_pulse_tkr_preprocess)"
      ]
    },
    {
      "cell_type": "code",
      "execution_count": null,
      "metadata": {},
      "outputs": [],
      "source": [
        "def cleanPeak(path):\n",
        "    ppg_path = nk.ppg_clean(path[['ir']], sampling_rate=250)\n",
        "    peaks_path = nk.ppg_findpeaks(ppg_path, sampling_rate=35, show=False)\n",
        "    peak = pd.DataFrame(peaks_path)\n",
        "    hr = peak.count()/(1)\n",
        "    hrv = peak.diff().var()\n",
        "    std = peak.diff().std()\n",
        "    return peaks_path,hr,hrv,std"
      ]
    },
    {
      "cell_type": "code",
      "execution_count": null,
      "metadata": {},
      "outputs": [],
      "source": [
        "from sklearn.preprocessing import MinMaxScaler\n",
        "\n",
        "def minmax(path):\n",
        "  minmax = MinMaxScaler(feature_range=(0,1))\n",
        "\n",
        "  path_minmax = minmax.fit_transform(path)\n",
        "  path_minmax_ppg = pd.DataFrame(path_minmax)[0]\n",
        "  return path_minmax,path_minmax_ppg"
      ]
    },
    {
      "cell_type": "code",
      "execution_count": 21,
      "metadata": {
        "colab": {
          "base_uri": "https://localhost:8080/",
          "height": 467
        },
        "id": "WgK51jqAjiiW",
        "outputId": "61e4d5f8-38cb-446e-833d-50a6140fd019"
      },
      "outputs": [],
      "source": [
        "# peaks_nasah_max_tkr2 = pd.DataFrame(peaks_nasah_max_tkr2)\n",
        "# peaks_nasah_max_tkr2_diff = peaks_nasah_max_tkr2.diff()\n",
        "# peaks_nasah_max_tkr2_diff[1:]\n",
        "# len(peaks_nasah_max_tkr2_diff)\n",
        "# angka = np.arange(1,len(peaks_nasah_max_tkr2_diff),1)\n",
        "# len(angka)\n",
        "# peaks_nasah_max_tkr2_diff.plot(kind = 'scatter', x = 'PPG_Peaks', y = 'PPG_Peaks'  )\n",
        "\n",
        "# plt.plot(peaks_nasah_max_tkr2.diff())"
      ]
    },
    {
      "cell_type": "code",
      "execution_count": 22,
      "metadata": {
        "id": "MMWfIH86qAzk"
      },
      "outputs": [],
      "source": [
        "def feature(peak):\n",
        "  peak = pd.DataFrame(peak)\n",
        "  hr = peak.count()/(1)\n",
        "  hrv = peak.diff().var()\n",
        "  std = peak.diff().std()\n",
        "\n",
        "  return hr,hrv,std"
      ]
    },
    {
      "cell_type": "code",
      "execution_count": null,
      "metadata": {},
      "outputs": [],
      "source": [
        "window_size = ????\n",
        "window_step = ????\n",
        "\n",
        "\n",
        "file_segmen = []\n",
        "for no_segmen in range(0,len(banyak_data)):\n",
        "    # ?ini buat ambil data\n",
        "    file[data[no_segmen]].columns = [\"data_emg\"]\n",
        "    # ini akhiir buat ambil data\n",
        "\n",
        "    # ini segmentasi kontraksinya\n",
        "    path1 = file[data[no_segmen]][(file[data[no_segmen]].waktu >10)]\n",
        "    path1 = path1[(path1.waktu <=190)]\n",
        "    # ini akhir segmentasi kontraksi\n",
        "\n",
        "\n",
        "    # ini windowingnya\n",
        "    for no_window in range(0,len(path1),window_step):\n",
        "        window = path1[no_window:no_window+window_size]\n",
        "        file_segmen.append(window)\n",
        "    # ini akhir windowingnya"
      ]
    },
    {
      "cell_type": "code",
      "execution_count": 1,
      "metadata": {},
      "outputs": [
        {
          "name": "stdout",
          "output_type": "stream",
          "text": [
            "Collecting heartpy\n",
            "  Downloading heartpy-1.2.7-py3-none-any.whl (1.0 MB)\n",
            "     ---------------------------------------- 0.0/1.0 MB ? eta -:--:--\n",
            "     --------- ------------------------------ 0.2/1.0 MB 4.8 MB/s eta 0:00:01\n",
            "     ------------ --------------------------- 0.3/1.0 MB 3.9 MB/s eta 0:00:01\n",
            "     ---------------- ----------------------- 0.4/1.0 MB 3.2 MB/s eta 0:00:01\n",
            "     -------------------------- ------------- 0.7/1.0 MB 3.8 MB/s eta 0:00:01\n",
            "     ------------------------------- -------- 0.8/1.0 MB 3.9 MB/s eta 0:00:01\n",
            "     ---------------------------------- ----- 0.9/1.0 MB 3.2 MB/s eta 0:00:01\n",
            "     ---------------------------------------  1.0/1.0 MB 3.3 MB/s eta 0:00:01\n",
            "     ---------------------------------------  1.0/1.0 MB 3.3 MB/s eta 0:00:01\n",
            "     ---------------------------------------  1.0/1.0 MB 3.3 MB/s eta 0:00:01\n",
            "     ---------------------------------------  1.0/1.0 MB 3.3 MB/s eta 0:00:01\n",
            "     ---------------------------------------  1.0/1.0 MB 3.3 MB/s eta 0:00:01\n",
            "     ---------------------------------------  1.0/1.0 MB 3.3 MB/s eta 0:00:01\n",
            "     ---------------------------------------  1.0/1.0 MB 3.3 MB/s eta 0:00:01\n",
            "     ---------------------------------------  1.0/1.0 MB 3.3 MB/s eta 0:00:01\n",
            "     ---------------------------------------- 1.0/1.0 MB 1.5 MB/s eta 0:00:00\n",
            "Requirement already satisfied: numpy>=1.17 in c:\\users\\my asus\\appdata\\local\\packages\\pythonsoftwarefoundation.python.3.9_qbz5n2kfra8p0\\localcache\\local-packages\\python39\\site-packages (from heartpy) (1.25.1)\n",
            "Requirement already satisfied: scipy in c:\\users\\my asus\\appdata\\local\\packages\\pythonsoftwarefoundation.python.3.9_qbz5n2kfra8p0\\localcache\\local-packages\\python39\\site-packages (from heartpy) (1.11.1)\n",
            "Requirement already satisfied: matplotlib in c:\\users\\my asus\\appdata\\local\\packages\\pythonsoftwarefoundation.python.3.9_qbz5n2kfra8p0\\localcache\\local-packages\\python39\\site-packages (from heartpy) (3.7.2)\n",
            "Requirement already satisfied: contourpy>=1.0.1 in c:\\users\\my asus\\appdata\\local\\packages\\pythonsoftwarefoundation.python.3.9_qbz5n2kfra8p0\\localcache\\local-packages\\python39\\site-packages (from matplotlib->heartpy) (1.1.0)\n",
            "Requirement already satisfied: cycler>=0.10 in c:\\users\\my asus\\appdata\\local\\packages\\pythonsoftwarefoundation.python.3.9_qbz5n2kfra8p0\\localcache\\local-packages\\python39\\site-packages (from matplotlib->heartpy) (0.11.0)\n",
            "Requirement already satisfied: fonttools>=4.22.0 in c:\\users\\my asus\\appdata\\local\\packages\\pythonsoftwarefoundation.python.3.9_qbz5n2kfra8p0\\localcache\\local-packages\\python39\\site-packages (from matplotlib->heartpy) (4.40.0)\n",
            "Requirement already satisfied: kiwisolver>=1.0.1 in c:\\users\\my asus\\appdata\\local\\packages\\pythonsoftwarefoundation.python.3.9_qbz5n2kfra8p0\\localcache\\local-packages\\python39\\site-packages (from matplotlib->heartpy) (1.4.4)\n",
            "Requirement already satisfied: packaging>=20.0 in c:\\users\\my asus\\appdata\\local\\packages\\pythonsoftwarefoundation.python.3.9_qbz5n2kfra8p0\\localcache\\local-packages\\python39\\site-packages (from matplotlib->heartpy) (23.1)\n",
            "Requirement already satisfied: pillow>=6.2.0 in c:\\users\\my asus\\appdata\\local\\packages\\pythonsoftwarefoundation.python.3.9_qbz5n2kfra8p0\\localcache\\local-packages\\python39\\site-packages (from matplotlib->heartpy) (10.0.0)\n",
            "Requirement already satisfied: pyparsing<3.1,>=2.3.1 in c:\\users\\my asus\\appdata\\local\\packages\\pythonsoftwarefoundation.python.3.9_qbz5n2kfra8p0\\localcache\\local-packages\\python39\\site-packages (from matplotlib->heartpy) (3.0.9)\n",
            "Requirement already satisfied: python-dateutil>=2.7 in c:\\users\\my asus\\appdata\\local\\packages\\pythonsoftwarefoundation.python.3.9_qbz5n2kfra8p0\\localcache\\local-packages\\python39\\site-packages (from matplotlib->heartpy) (2.8.2)\n",
            "Requirement already satisfied: importlib-resources>=3.2.0 in c:\\users\\my asus\\appdata\\local\\packages\\pythonsoftwarefoundation.python.3.9_qbz5n2kfra8p0\\localcache\\local-packages\\python39\\site-packages (from matplotlib->heartpy) (6.0.0)\n",
            "Requirement already satisfied: zipp>=3.1.0 in c:\\users\\my asus\\appdata\\local\\packages\\pythonsoftwarefoundation.python.3.9_qbz5n2kfra8p0\\localcache\\local-packages\\python39\\site-packages (from importlib-resources>=3.2.0->matplotlib->heartpy) (3.16.0)\n",
            "Requirement already satisfied: six>=1.5 in c:\\users\\my asus\\appdata\\local\\packages\\pythonsoftwarefoundation.python.3.9_qbz5n2kfra8p0\\localcache\\local-packages\\python39\\site-packages (from python-dateutil>=2.7->matplotlib->heartpy) (1.16.0)\n",
            "Installing collected packages: heartpy\n",
            "Successfully installed heartpy-1.2.7\n"
          ]
        }
      ],
      "source": [
        "!pip install heartpy"
      ]
    },
    {
      "cell_type": "code",
      "execution_count": 11,
      "metadata": {},
      "outputs": [
        {
          "data": {
            "image/png": "[encoded data removed]",
            "text/plain": [
              "<Figure size 1500x1000 with 3 Axes>"
            ]
          },
          "metadata": {},
          "output_type": "display_data"
        }
      ],
      "source": [
        "import matplotlib\n",
        "import matplotlib.pyplot as plt\n",
        "import numpy as np\n",
        "import pandas as pd\n",
        "\n",
        "\n",
        "gs = matplotlib.gridspec.GridSpec(2, 2, width_ratios=[2 / 3, 1 / 3])\n",
        "fig = plt.figure(constrained_layout=False, figsize=(15,10))\n",
        "\n",
        "ax0 = fig.add_subplot(gs[0, :-1])\n",
        "ax1 = fig.add_subplot(gs[1, :-1], sharex=ax0)\n",
        "ax2 = fig.add_subplot(gs[:, -1])\n",
        "\n",
        "# Plot cleaned and raw PPG\n",
        "ax0 = _ppg_peaks_plot(\n",
        "    ppg_signals[\"PPG_Clean\"].values,\n",
        "    info=info,\n",
        "    sampling_rate=info[\"sampling_rate\"],\n",
        "    raw=ppg_signals[\"PPG_Raw\"].values,\n",
        "    ax=ax0,\n",
        ")\n",
        "\n",
        "# Plot Heart Rate\n",
        "ax1 = _signal_rate_plot(\n",
        "    ppg_signals[\"PPG_Rate\"].values,\n",
        "    info[\"PPG_Peaks\"],\n",
        "    sampling_rate=info[\"sampling_rate\"],\n",
        "    title=\"Heart Rate\",\n",
        "    ytitle=\"Beats per minute (bpm)\",\n",
        "    color=\"#FB661C\",\n",
        "    color_mean=\"#FBB41C\",\n",
        "    color_points=\"#FF9800\",\n",
        "    ax=ax1,\n",
        ")\n",
        "\n",
        "# Plot individual heart beats\n",
        "ax2 = ppg_segment(\n",
        "    ppg_signals[\"PPG_Clean\"].values,\n",
        "    info[\"PPG_Peaks\"],\n",
        "    info[\"sampling_rate\"],\n",
        "    show=\"return\",\n",
        "    ax=ax2,\n",
        ")"
      ]
    },
    {
      "cell_type": "code",
      "execution_count": null,
      "metadata": {},
      "outputs": [],
      "source": []
    }
  ],
  "metadata": {
    "colab": {
      "provenance": []
    },
    "kernelspec": {
      "display_name": "Python 3",
      "name": "python3"
    },
    "language_info": {
      "codemirror_mode": {
        "name": "ipython",
        "version": 3
      },
      "file_extension": ".py",
      "mimetype": "text/x-python",
      "name": "python",
      "nbconvert_exporter": "python",
      "pygments_lexer": "ipython3",
      "version": "3.9.13"
    }
  },
  "nbformat": 4,
  "nbformat_minor": 0
}
