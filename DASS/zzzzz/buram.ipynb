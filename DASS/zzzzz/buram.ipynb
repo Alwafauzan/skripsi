{
  "cells": [
    {
      "cell_type": "code",
      "execution_count": null,
      "metadata": {},
      "outputs": [],
      "source": [
        "amel_pulse_tkr = pd.read_csv(\"data/data_awal/amel_pulse_tkr.csv\",sep =\";\")\n",
        "andika_pulse_tkr = pd.read_csv(\"data/data_awal/andika_pulse_tkr.csv\",sep =\";\")\n",
        "fauzi_pulse_tkr = pd.read_csv(\"data/data_awal/fauzi_pulse_tkr.csv\",sep =\";\")\n",
        "kanwa_pulse_tkr = pd.read_csv(\"data/data_awal/kanwa_pulse_tkr.csv\",sep =\";\")\n",
        "nandakkn_pulse_tkr = pd.read_csv(\"data/data_awal/nandakkn_pulse_tkr.csv\",sep =\";\")\n",
        "nanda_pulse_tkr = pd.read_csv(\"data/data_awal/nanda_pulse_tkr.csv\",sep =\";\")\n",
        "pradja_pulse_tkr = pd.read_csv(\"data/data_awal/pradja_pulse_tkr.csv\",sep =\";\")\n",
        "raihan_pulse_tkr = pd.read_csv(\"data/data_awal/raihan_pulse_tkr.csv\",sep =\";\")\n",
        "silvia_pulse_tkr = pd.read_csv(\"data/data_awal/silvia_pulse_tkr.csv\",sep =\";\")\n",
        "alikha_pulse_tkr = pd.read_csv(\"data/belom_diedit/alikha_pulse_tkr.csv\",sep =\";\")\n",
        "anita_pulse_tkr = pd.read_csv(\"data/belom_diedit/anita_pulse_tkr.csv\",sep =\";\")\n",
        "ecak_pulse_tkr = pd.read_csv(\"data/belom_diedit/ecak_pulse_tkr.csv\",sep =\";\")\n",
        "nasah_pulse_tkr = pd.read_csv(\"data/belom_diedit/nasah_pulse_tkr.csv\",sep =\";\")\n",
        "nyoman_pulse_tkr = pd.read_csv(\"data/belom_diedit/nyoman_pulse_tkr.csv\",sep =\";\")\n",
        "nyu_pulse_tkr = pd.read_csv(\"data/belom_diedit/nyu_pulse_tkr.csv\",sep =\";\")\n",
        "puci_pulse_tkr = pd.read_csv(\"data/belom_diedit/puci_pulse_tkr.csv\",sep =\";\")\n",
        "roshied_pulse_tkr = pd.read_csv(\"data/belom_diedit/roshied_pulse_tkr.csv\",sep =\";\")\n",
        "widi_pulse_tkr = pd.read_csv(\"data/belom_diedit/widi_pulse_tkr.csv\",sep =\";\")\n",
        "aldi_tkr = pd.read_csv(\"data/29-9-23/aldi_tkr.csv\",skiprows=13,sep =\",\")\n",
        "ary_tkr = pd.read_csv(\"data/29-9-23/ary_tkr.csv\",skiprows=13,sep =\",\")\n",
        "betari_tkr = pd.read_csv(\"data/29-9-23/betari_tkr.csv\",skiprows=13,sep =\",\")\n",
        "charisma_tkr = pd.read_csv(\"data/29-9-23/charisma_tkr.csv\",skiprows=13,sep =\",\")\n",
        "deva_tkr = pd.read_csv(\"data/29-9-23/deva_tkr.csv\",skiprows=13,sep =\",\")\n",
        "faiza_tkr = pd.read_csv(\"data/29-9-23/faiza_tkr.csv\",skiprows=13,sep =\",\")\n",
        "novi_tkr = pd.read_csv(\"data/29-9-23/novi_tkr.csv\",skiprows=13,sep =\",\")\n",
        "bunga_tkr = pd.read_csv('data/19-10-23/bunga_tkr.csv',skiprows=2,sep=',') \n",
        "hilmy_tkr = pd.read_csv('data/19-10-23/hilmy_tkr.csv',skiprows=2,sep=',') \n",
        "ilma_tkr = pd.read_csv('data/19-10-23/ilma_tkr.csv',skiprows=2,sep=',') \n",
        "maha_tkr = pd.read_csv('data/19-10-23/maha_tkr.csv',skiprows=2,sep=',') \n",
        "nisa_tkr = pd.read_csv('data/19-10-23/nisa_tkr.csv',skiprows=2,sep=',') \n",
        "rima_tkr = pd.read_csv('data/19-10-23/rima_tkr.csv',skiprows=2,sep=',') \n",
        "winanda_tkr = pd.read_csv('data/19-10-23/winanda_tkr.csv',skiprows=2,sep=',')\n",
        "izmi_tkr = pd.read_csv('data/21-10-23/izmi_tkr.csv',skiprows=2,sep=',')"
      ]
    },
    {
      "cell_type": "code",
      "execution_count": null,
      "metadata": {},
      "outputs": [],
      "source": [
        "alikha_pulse_tkr.drop(alikha_pulse_tkr.columns[1], axis=1, inplace=True)\n",
        "anita_pulse_tkr.drop(anita_pulse_tkr.columns[1], axis=1, inplace=True)\n",
        "ecak_pulse_tkr.drop(ecak_pulse_tkr.columns[1], axis=1, inplace=True)\n",
        "nasah_pulse_tkr.drop(nasah_pulse_tkr.columns[1], axis=1, inplace=True)\n",
        "nyoman_pulse_tkr.drop(nyoman_pulse_tkr.columns[1], axis=1, inplace=True)\n",
        "nyu_pulse_tkr.drop(nyu_pulse_tkr.columns[1], axis=1, inplace=True)\n",
        "puci_pulse_tkr.drop(puci_pulse_tkr.columns[1], axis=1, inplace=True)\n",
        "roshied_pulse_tkr.drop(roshied_pulse_tkr.columns[1], axis=1, inplace=True)\n",
        "widi_pulse_tkr.drop(widi_pulse_tkr.columns[1], axis=1, inplace=True)"
      ]
    },
    {
      "cell_type": "code",
      "execution_count": 19,
      "metadata": {
        "colab": {
          "base_uri": "https://localhost:8080/",
          "height": 452
        },
        "id": "ThgrUmaN_rIm",
        "outputId": "17e23114-6840-4a82-a793-eb7782fd756b"
      },
      "outputs": [],
      "source": [
        "def awal_bgt(path):\n",
        "    ppg_path = nk.ppg_clean(path[['ir']], sampling_rate=250)\n",
        "    peaks_path = nk.ppg_findpeaks(ppg_path, sampling_rate=35, show=False)\n",
        "    return peaks_path\n",
        "\n",
        "def cleanPeak(path):\n",
        "    ppg_path = nk.ppg_clean(path[['ir']], sampling_rate=250)\n",
        "    peaks_path = nk.ppg_findpeaks(ppg_path, sampling_rate=35, show=False)\n",
        "    return peaks_path\n",
        "\n",
        "def cleanPeakMax(path):\n",
        "    ppg_path = nk.ppg_clean(path[['ir']], sampling_rate=100)\n",
        "    peaks_path = nk.ppg_findpeaks(ppg_path, sampling_rate=35, show=False)\n",
        "    return peaks_path"
      ]
    },
    {
      "cell_type": "code",
      "execution_count": null,
      "metadata": {},
      "outputs": [
        {
          "data": {
            "text/plain": [
              "<Axes: xlabel='PPG_Peaks', ylabel='PPG_Peaks'>"
            ]
          },
          "metadata": {},
          "output_type": "display_data"
        },
        {
          "data": {
            "image/png": "[encoded data removed]",
            "text/plain": [
              "<Figure size 640x480 with 1 Axes>"
            ]
          },
          "metadata": {},
          "output_type": "display_data"
        }
      ],
      "source": [
        "peaks_pradja = pd.DataFrame(peaks_pradja)\n",
        "peaks_pradja_diff = peaks_pradja.diff()\n",
        "# peaks_pradja_diff[1:]\n",
        "# len(peaks_pradja_diff)\n",
        "# angka = np.arange(1,len(peaks_pradja_diff),1)\n",
        "# len(angka)\n",
        "peaks_pradja_diff.plot(kind = 'scatter', x = 'PPG_Peaks', y = 'PPG_Peaks'  )\n",
        "\n",
        "# plt.plot(peaks_pradja.diff())"
      ]
    },
    {
      "cell_type": "code",
      "execution_count": null,
      "metadata": {},
      "outputs": [],
      "source": [
        "from sklearn.preprocessing import MinMaxScaler\n",
        "\n",
        "def minmax(path):\n",
        "  minmax = MinMaxScaler(feature_range=(0,1))\n",
        "\n",
        "  path_minmax = minmax.fit_transform(path)\n",
        "  path_minmax_ppg = pd.DataFrame(path_minmax)[0]\n",
        "  return path_minmax,path_minmax_ppg\n",
        "\n",
        "data,data1 = minmax(amel_pulse_tkr_preprocess)"
      ]
    },
    {
      "cell_type": "code",
      "execution_count": null,
      "metadata": {},
      "outputs": [],
      "source": [
        "def cleanPeak(path):\n",
        "    ppg_path = nk.ppg_clean(path[['ir']], sampling_rate=250)\n",
        "    peaks_path = nk.ppg_findpeaks(ppg_path, sampling_rate=35, show=False)\n",
        "    peak = pd.DataFrame(peaks_path)\n",
        "    hr = peak.count()/(1)\n",
        "    hrv = peak.diff().var()\n",
        "    std = peak.diff().std()\n",
        "    return peaks_path,hr,hrv,std"
      ]
    },
    {
      "cell_type": "code",
      "execution_count": null,
      "metadata": {},
      "outputs": [],
      "source": [
        "from sklearn.preprocessing import MinMaxScaler\n",
        "\n",
        "def minmax(path):\n",
        "  minmax = MinMaxScaler(feature_range=(0,1))\n",
        "\n",
        "  path_minmax = minmax.fit_transform(path)\n",
        "  path_minmax_ppg = pd.DataFrame(path_minmax)[0]\n",
        "  return path_minmax,path_minmax_ppg"
      ]
    },
    {
      "cell_type": "code",
      "execution_count": 21,
      "metadata": {
        "colab": {
          "base_uri": "https://localhost:8080/",
          "height": 467
        },
        "id": "WgK51jqAjiiW",
        "outputId": "61e4d5f8-38cb-446e-833d-50a6140fd019"
      },
      "outputs": [],
      "source": [
        "# peaks_nasah_max_tkr2 = pd.DataFrame(peaks_nasah_max_tkr2)\n",
        "# peaks_nasah_max_tkr2_diff = peaks_nasah_max_tkr2.diff()\n",
        "# peaks_nasah_max_tkr2_diff[1:]\n",
        "# len(peaks_nasah_max_tkr2_diff)\n",
        "# angka = np.arange(1,len(peaks_nasah_max_tkr2_diff),1)\n",
        "# len(angka)\n",
        "# peaks_nasah_max_tkr2_diff.plot(kind = 'scatter', x = 'PPG_Peaks', y = 'PPG_Peaks'  )\n",
        "\n",
        "# plt.plot(peaks_nasah_max_tkr2.diff())"
      ]
    },
    {
      "cell_type": "code",
      "execution_count": 22,
      "metadata": {
        "id": "MMWfIH86qAzk"
      },
      "outputs": [],
      "source": [
        "def feature(peak):\n",
        "  peak = pd.DataFrame(peak)\n",
        "  hr = peak.count()/(1)\n",
        "  hrv = peak.diff().var()\n",
        "  std = peak.diff().std()\n",
        "\n",
        "  return hr,hrv,std"
      ]
    },
    {
      "cell_type": "code",
      "execution_count": null,
      "metadata": {},
      "outputs": [],
      "source": [
        "window_size = ????\n",
        "window_step = ????\n",
        "\n",
        "\n",
        "file_segmen = []\n",
        "for no_segmen in range(0,len(banyak_data)):\n",
        "    # ?ini buat ambil data\n",
        "    file[data[no_segmen]].columns = [\"data_emg\"]\n",
        "    # ini akhiir buat ambil data\n",
        "\n",
        "    # ini segmentasi kontraksinya\n",
        "    path1 = file[data[no_segmen]][(file[data[no_segmen]].waktu >10)]\n",
        "    path1 = path1[(path1.waktu <=190)]\n",
        "    # ini akhir segmentasi kontraksi\n",
        "\n",
        "\n",
        "    # ini windowingnya\n",
        "    for no_window in range(0,len(path1),window_step):\n",
        "        window = path1[no_window:no_window+window_size]\n",
        "        file_segmen.append(window)\n",
        "    # ini akhir windowingnya"
      ]
    }
  ],
  "metadata": {
    "colab": {
      "provenance": []
    },
    "kernelspec": {
      "display_name": "Python 3",
      "name": "python3"
    },
    "language_info": {
      "codemirror_mode": {
        "name": "ipython",
        "version": 3
      },
      "file_extension": ".py",
      "mimetype": "text/x-python",
      "name": "python",
      "nbconvert_exporter": "python",
      "pygments_lexer": "ipython3",
      "version": "3.9.13"
    }
  },
  "nbformat": 4,
  "nbformat_minor": 0
}
