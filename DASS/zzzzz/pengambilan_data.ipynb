{
 "cells": [
  {
   "cell_type": "code",
   "execution_count": 2,
   "metadata": {},
   "outputs": [],
   "source": [
    "import pandas as pd\n",
    "import os"
   ]
  },
  {
   "cell_type": "code",
   "execution_count": 3,
   "metadata": {},
   "outputs": [
    {
     "ename": "FileNotFoundError",
     "evalue": "[WinError 3] The system cannot find the path specified: 'data_awal'",
     "output_type": "error",
     "traceback": [
      "\u001b[1;31m---------------------------------------------------------------------------\u001b[0m",
      "\u001b[1;31mFileNotFoundError\u001b[0m                         Traceback (most recent call last)",
      "\u001b[1;32mf:\\repo\\skripsi\\DASS\\zzzzz\\pengambilan_data.ipynb Cell 2\u001b[0m line \u001b[0;36m2\n\u001b[0;32m      <a href='vscode-notebook-cell:/f%3A/repo/skripsi/DASS/zzzzz/pengambilan_data.ipynb#W1sZmlsZQ%3D%3D?line=0'>1</a>\u001b[0m \u001b[39m# os.listdir('belom_diedit')\u001b[39;00m\n\u001b[1;32m----> <a href='vscode-notebook-cell:/f%3A/repo/skripsi/DASS/zzzzz/pengambilan_data.ipynb#W1sZmlsZQ%3D%3D?line=1'>2</a>\u001b[0m os\u001b[39m.\u001b[39;49mlistdir(\u001b[39m'\u001b[39;49m\u001b[39mdata_awal\u001b[39;49m\u001b[39m'\u001b[39;49m)\n",
      "\u001b[1;31mFileNotFoundError\u001b[0m: [WinError 3] The system cannot find the path specified: 'data_awal'"
     ]
    }
   ],
   "source": [
    "# os.listdir('belom_diedit')\n",
    "os.listdir('data_awal')"
   ]
  },
  {
   "cell_type": "code",
   "execution_count": null,
   "metadata": {},
   "outputs": [
    {
     "ename": "FileNotFoundError",
     "evalue": "[WinError 2] The system cannot find the file specified: 'amel_tkr.csv' -> 'amel_pulse_tkr.csv'",
     "output_type": "error",
     "traceback": [
      "\u001b[1;31m---------------------------------------------------------------------------\u001b[0m",
      "\u001b[1;31mFileNotFoundError\u001b[0m                         Traceback (most recent call last)",
      "\u001b[1;32mf:\\repo\\skripsi\\DASS\\pengambilan_data.ipynb Cell 3\u001b[0m line \u001b[0;36m1\n\u001b[1;32m----> <a href='vscode-notebook-cell:/f%3A/repo/skripsi/DASS/pengambilan_data.ipynb#W4sZmlsZQ%3D%3D?line=0'>1</a>\u001b[0m os\u001b[39m.\u001b[39;49mrename(\u001b[39m'\u001b[39;49m\u001b[39mamel_tkr.csv\u001b[39;49m\u001b[39m'\u001b[39;49m,\u001b[39m'\u001b[39;49m\u001b[39mamel_pulse_tkr.csv\u001b[39;49m\u001b[39m'\u001b[39;49m)\n\u001b[0;32m      <a href='vscode-notebook-cell:/f%3A/repo/skripsi/DASS/pengambilan_data.ipynb#W4sZmlsZQ%3D%3D?line=1'>2</a>\u001b[0m os\u001b[39m.\u001b[39mrename( \u001b[39m'\u001b[39m\u001b[39mandika_tkr.csv\u001b[39m\u001b[39m'\u001b[39m, \u001b[39m'\u001b[39m\u001b[39mandika_pulse_tkr.csv\u001b[39m\u001b[39m'\u001b[39m)\n\u001b[0;32m      <a href='vscode-notebook-cell:/f%3A/repo/skripsi/DASS/pengambilan_data.ipynb#W4sZmlsZQ%3D%3D?line=2'>3</a>\u001b[0m os\u001b[39m.\u001b[39mrename( \u001b[39m'\u001b[39m\u001b[39mdhea_tkr.csv\u001b[39m\u001b[39m'\u001b[39m, \u001b[39m'\u001b[39m\u001b[39mdhea_pulse_tkr.csv\u001b[39m\u001b[39m'\u001b[39m)\n",
      "\u001b[1;31mFileNotFoundError\u001b[0m: [WinError 2] The system cannot find the file specified: 'amel_tkr.csv' -> 'amel_pulse_tkr.csv'"
     ]
    }
   ],
   "source": [
    "# ganti nama file\n",
    "\n",
    "\n",
    "\n",
    "# os.rename( 'amel_tkr.csv','amel_pulse_tkr.csv')\n",
    "# os.rename( 'andika_tkr.csv', 'andika_pulse_tkr.csv')\n",
    "# os.rename( 'dhea_tkr.csv', 'dhea_pulse_tkr.csv')\n",
    "# os.rename( 'elya_tkr.csv', 'elya_pulse_tkr.csv')\n",
    "# os.rename( 'fauzi_tkr.csv', 'fauzi_pulse_tkr.csv')\n",
    "# os.rename( 'iam_tkr.csv', 'iam_pulse_tkr.csv')\n",
    "# os.rename( 'kanwa_tkr.csv', 'kanwa_pulse_tkr.csv')\n",
    "# os.rename( 'nandakkn_tkr.csv', 'nandakkn_pulse_tkr.csv')\n",
    "# os.rename( 'nanda_tkr.csv', 'nanda_pulse_tkr.csv')\n",
    "# os.rename( 'nopen_tkr.csv', 'nopen_pulse_tkr.csv')\n",
    "# os.rename( 'nopen_tkr2.csv', 'nopen_tpulse_kr2.csv')\n",
    "# os.rename( 'pradja_tkr.csv', 'pradja_pulse_tkr.csv')\n",
    "# os.rename( 'raihan_tkr.csv', 'raihan_pulse_tkr.csv')\n",
    "# os.rename( 'rico_tkr.csv', 'rico_pulse_tkr.csv')\n",
    "# os.rename( 'silvia_tkr.csv', 'silvia_pulse_tkr.csv')\n",
    "# os.rename( 'visky_tkr.csv', 'visky_pulse_tkr.csv')"
   ]
  },
  {
   "cell_type": "code",
   "execution_count": 8,
   "metadata": {},
   "outputs": [
    {
     "name": "stdout",
     "output_type": "stream",
     "text": [
      "amel_pulse_tkr = pd.read_csv(\"data_awal/amel_pulse_tkr.csv\",sep =\";\")\n",
      "andika_pulse_tkr = pd.read_csv(\"data_awal/andika_pulse_tkr.csv\",sep =\";\")\n",
      "dhea_pulse_tkr = pd.read_csv(\"data_awal/dhea_pulse_tkr.csv\",sep =\";\")\n",
      "elya_pulse_tkr = pd.read_csv(\"data_awal/elya_pulse_tkr.csv\",sep =\";\")\n",
      "fauzi_pulse_tkr = pd.read_csv(\"data_awal/fauzi_pulse_tkr.csv\",sep =\";\")\n",
      "iam_pulse_tkr = pd.read_csv(\"data_awal/iam_pulse_tkr.csv\",sep =\";\")\n",
      "kanwa_pulse_tkr = pd.read_csv(\"data_awal/kanwa_pulse_tkr.csv\",sep =\";\")\n",
      "nandakkn_pulse_tkr = pd.read_csv(\"data_awal/nandakkn_pulse_tkr.csv\",sep =\";\")\n",
      "nanda_pulse_tkr = pd.read_csv(\"data_awal/nanda_pulse_tkr.csv\",sep =\";\")\n",
      "nopen_pulse_tkr = pd.read_csv(\"data_awal/nopen_pulse_tkr.csv\",sep =\";\")\n",
      "nopen_tpulse_kr2 = pd.read_csv(\"data_awal/nopen_tpulse_kr2.csv\",sep =\";\")\n",
      "pradja_pulse_tkr = pd.read_csv(\"data_awal/pradja_pulse_tkr.csv\",sep =\";\")\n",
      "raihan_pulse_tkr = pd.read_csv(\"data_awal/raihan_pulse_tkr.csv\",sep =\";\")\n",
      "rico_pulse_tkr = pd.read_csv(\"data_awal/rico_pulse_tkr.csv\",sep =\";\")\n",
      "silvia_pulse_tkr = pd.read_csv(\"data_awal/silvia_pulse_tkr.csv\",sep =\";\")\n",
      "visky_pulse_tkr = pd.read_csv(\"data_awal/visky_pulse_tkr.csv\",sep =\";\")\n"
     ]
    }
   ],
   "source": [
    "a = '../data_awal/'\n",
    "z = os.listdir(a)\n",
    "# z\n",
    "for i in z:\n",
    "    # print(f'{i[:-4]} = pd.read_csv(\"{i}\",skiprows=13,sep =\",\")')\n",
    "    print(f'{i[:-4]} = pd.read_csv(\"data_awal/{i}\",sep =\";\")')\n"
   ]
  }
 ],
 "metadata": {
  "kernelspec": {
   "display_name": "Python 3",
   "language": "python",
   "name": "python3"
  },
  "language_info": {
   "codemirror_mode": {
    "name": "ipython",
    "version": 3
   },
   "file_extension": ".py",
   "mimetype": "text/x-python",
   "name": "python",
   "nbconvert_exporter": "python",
   "pygments_lexer": "ipython3",
   "version": "3.9.13"
  },
  "orig_nbformat": 4
 },
 "nbformat": 4,
 "nbformat_minor": 2
}
